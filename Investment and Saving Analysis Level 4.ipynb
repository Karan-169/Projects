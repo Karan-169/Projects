{
 "cells": [
  {
   "cell_type": "markdown",
   "id": "456cff40-a6e0-4da7-9054-b5bb70611ad5",
   "metadata": {},
   "source": [
    "## **Investment and saving analysis Level 4**"
   ]
  },
  {
   "cell_type": "markdown",
   "id": "a4842027-41da-47a2-a78a-4f07799bea06",
   "metadata": {},
   "source": [
    "### Import Required Libraries"
   ]
  },
  {
   "cell_type": "code",
   "execution_count": 1,
   "id": "a7b598c8-1457-4795-ab31-0679c7ece4d1",
   "metadata": {},
   "outputs": [],
   "source": [
    "import pandas as pd \n",
    "import numpy as np \n",
    "import matplotlib.pyplot as plt\n",
    "import seaborn as sns"
   ]
  },
  {
   "cell_type": "markdown",
   "id": "88d5736f-c954-4661-90cc-83fd094acfff",
   "metadata": {},
   "source": [
    "### Load the Dataset "
   ]
  },
  {
   "cell_type": "code",
   "execution_count": 2,
   "id": "f95aac48-151d-4058-9d04-5d045f346d31",
   "metadata": {},
   "outputs": [
    {
     "data": {
      "text/html": [
       "<div>\n",
       "<style scoped>\n",
       "    .dataframe tbody tr th:only-of-type {\n",
       "        vertical-align: middle;\n",
       "    }\n",
       "\n",
       "    .dataframe tbody tr th {\n",
       "        vertical-align: top;\n",
       "    }\n",
       "\n",
       "    .dataframe thead th {\n",
       "        text-align: right;\n",
       "    }\n",
       "</style>\n",
       "<table border=\"1\" class=\"dataframe\">\n",
       "  <thead>\n",
       "    <tr style=\"text-align: right;\">\n",
       "      <th></th>\n",
       "      <th>gender</th>\n",
       "      <th>age</th>\n",
       "      <th>Investment_Avenues</th>\n",
       "      <th>Mutual_Funds</th>\n",
       "      <th>Equity_Market</th>\n",
       "      <th>Debentures</th>\n",
       "      <th>Government_Bonds</th>\n",
       "      <th>Fixed_Deposits</th>\n",
       "      <th>PPF</th>\n",
       "      <th>Gold</th>\n",
       "      <th>...</th>\n",
       "      <th>Duration</th>\n",
       "      <th>Invest_Monitor</th>\n",
       "      <th>Expect</th>\n",
       "      <th>Avenue</th>\n",
       "      <th>What are your savings objectives?</th>\n",
       "      <th>Reason_Equity</th>\n",
       "      <th>Reason_Mutual</th>\n",
       "      <th>Reason_Bonds</th>\n",
       "      <th>Reason_FD</th>\n",
       "      <th>Source</th>\n",
       "    </tr>\n",
       "  </thead>\n",
       "  <tbody>\n",
       "    <tr>\n",
       "      <th>0</th>\n",
       "      <td>Female</td>\n",
       "      <td>34</td>\n",
       "      <td>Yes</td>\n",
       "      <td>1</td>\n",
       "      <td>2</td>\n",
       "      <td>5</td>\n",
       "      <td>3</td>\n",
       "      <td>7</td>\n",
       "      <td>6</td>\n",
       "      <td>4</td>\n",
       "      <td>...</td>\n",
       "      <td>1-3 years</td>\n",
       "      <td>Monthly</td>\n",
       "      <td>20%-30%</td>\n",
       "      <td>Mutual Fund</td>\n",
       "      <td>Retirement Plan</td>\n",
       "      <td>Capital Appreciation</td>\n",
       "      <td>Better Returns</td>\n",
       "      <td>Safe Investment</td>\n",
       "      <td>Fixed Returns</td>\n",
       "      <td>Newspapers and Magazines</td>\n",
       "    </tr>\n",
       "    <tr>\n",
       "      <th>1</th>\n",
       "      <td>Female</td>\n",
       "      <td>23</td>\n",
       "      <td>Yes</td>\n",
       "      <td>4</td>\n",
       "      <td>3</td>\n",
       "      <td>2</td>\n",
       "      <td>1</td>\n",
       "      <td>5</td>\n",
       "      <td>6</td>\n",
       "      <td>7</td>\n",
       "      <td>...</td>\n",
       "      <td>More than 5 years</td>\n",
       "      <td>Weekly</td>\n",
       "      <td>20%-30%</td>\n",
       "      <td>Mutual Fund</td>\n",
       "      <td>Health Care</td>\n",
       "      <td>Dividend</td>\n",
       "      <td>Better Returns</td>\n",
       "      <td>Safe Investment</td>\n",
       "      <td>High Interest Rates</td>\n",
       "      <td>Financial Consultants</td>\n",
       "    </tr>\n",
       "    <tr>\n",
       "      <th>2</th>\n",
       "      <td>Male</td>\n",
       "      <td>30</td>\n",
       "      <td>Yes</td>\n",
       "      <td>3</td>\n",
       "      <td>6</td>\n",
       "      <td>4</td>\n",
       "      <td>2</td>\n",
       "      <td>5</td>\n",
       "      <td>1</td>\n",
       "      <td>7</td>\n",
       "      <td>...</td>\n",
       "      <td>3-5 years</td>\n",
       "      <td>Daily</td>\n",
       "      <td>20%-30%</td>\n",
       "      <td>Equity</td>\n",
       "      <td>Retirement Plan</td>\n",
       "      <td>Capital Appreciation</td>\n",
       "      <td>Tax Benefits</td>\n",
       "      <td>Assured Returns</td>\n",
       "      <td>Fixed Returns</td>\n",
       "      <td>Television</td>\n",
       "    </tr>\n",
       "    <tr>\n",
       "      <th>3</th>\n",
       "      <td>Male</td>\n",
       "      <td>22</td>\n",
       "      <td>Yes</td>\n",
       "      <td>2</td>\n",
       "      <td>1</td>\n",
       "      <td>3</td>\n",
       "      <td>7</td>\n",
       "      <td>6</td>\n",
       "      <td>4</td>\n",
       "      <td>5</td>\n",
       "      <td>...</td>\n",
       "      <td>Less than 1 year</td>\n",
       "      <td>Daily</td>\n",
       "      <td>10%-20%</td>\n",
       "      <td>Equity</td>\n",
       "      <td>Retirement Plan</td>\n",
       "      <td>Dividend</td>\n",
       "      <td>Fund Diversification</td>\n",
       "      <td>Tax Incentives</td>\n",
       "      <td>High Interest Rates</td>\n",
       "      <td>Internet</td>\n",
       "    </tr>\n",
       "    <tr>\n",
       "      <th>4</th>\n",
       "      <td>Female</td>\n",
       "      <td>24</td>\n",
       "      <td>No</td>\n",
       "      <td>2</td>\n",
       "      <td>1</td>\n",
       "      <td>3</td>\n",
       "      <td>6</td>\n",
       "      <td>4</td>\n",
       "      <td>5</td>\n",
       "      <td>7</td>\n",
       "      <td>...</td>\n",
       "      <td>Less than 1 year</td>\n",
       "      <td>Daily</td>\n",
       "      <td>20%-30%</td>\n",
       "      <td>Equity</td>\n",
       "      <td>Retirement Plan</td>\n",
       "      <td>Capital Appreciation</td>\n",
       "      <td>Better Returns</td>\n",
       "      <td>Safe Investment</td>\n",
       "      <td>Risk Free</td>\n",
       "      <td>Internet</td>\n",
       "    </tr>\n",
       "  </tbody>\n",
       "</table>\n",
       "<p>5 rows × 24 columns</p>\n",
       "</div>"
      ],
      "text/plain": [
       "   gender  age Investment_Avenues  Mutual_Funds  Equity_Market  Debentures  \\\n",
       "0  Female   34                Yes             1              2           5   \n",
       "1  Female   23                Yes             4              3           2   \n",
       "2    Male   30                Yes             3              6           4   \n",
       "3    Male   22                Yes             2              1           3   \n",
       "4  Female   24                 No             2              1           3   \n",
       "\n",
       "   Government_Bonds  Fixed_Deposits  PPF  Gold  ...           Duration  \\\n",
       "0                 3               7    6     4  ...          1-3 years   \n",
       "1                 1               5    6     7  ...  More than 5 years   \n",
       "2                 2               5    1     7  ...          3-5 years   \n",
       "3                 7               6    4     5  ...   Less than 1 year   \n",
       "4                 6               4    5     7  ...   Less than 1 year   \n",
       "\n",
       "  Invest_Monitor   Expect       Avenue What are your savings objectives?  \\\n",
       "0        Monthly  20%-30%  Mutual Fund                   Retirement Plan   \n",
       "1         Weekly  20%-30%  Mutual Fund                       Health Care   \n",
       "2          Daily  20%-30%       Equity                   Retirement Plan   \n",
       "3          Daily  10%-20%       Equity                   Retirement Plan   \n",
       "4          Daily  20%-30%       Equity                   Retirement Plan   \n",
       "\n",
       "          Reason_Equity         Reason_Mutual     Reason_Bonds  \\\n",
       "0  Capital Appreciation        Better Returns  Safe Investment   \n",
       "1              Dividend        Better Returns  Safe Investment   \n",
       "2  Capital Appreciation          Tax Benefits  Assured Returns   \n",
       "3              Dividend  Fund Diversification   Tax Incentives   \n",
       "4  Capital Appreciation        Better Returns  Safe Investment   \n",
       "\n",
       "             Reason_FD                    Source  \n",
       "0        Fixed Returns  Newspapers and Magazines  \n",
       "1  High Interest Rates     Financial Consultants  \n",
       "2        Fixed Returns                Television  \n",
       "3  High Interest Rates                  Internet  \n",
       "4            Risk Free                  Internet  \n",
       "\n",
       "[5 rows x 24 columns]"
      ]
     },
     "execution_count": 2,
     "metadata": {},
     "output_type": "execute_result"
    }
   ],
   "source": [
    "df = pd.read_csv('Investment and saving data.csv')\n",
    "df.head()"
   ]
  },
  {
   "cell_type": "markdown",
   "id": "7e056a10-bc4d-41e7-bfd8-9802ac2a9648",
   "metadata": {},
   "source": [
    "## **Step 1:** Identify Common Information Sources "
   ]
  },
  {
   "cell_type": "code",
   "execution_count": 10,
   "id": "5d178f37-b387-47de-b0b4-d48871a6fc73",
   "metadata": {},
   "outputs": [],
   "source": [
    "# Analyze the 'source' column\n",
    "sources_column = 'Source'"
   ]
  },
  {
   "cell_type": "code",
   "execution_count": 11,
   "id": "4a4608d5-d3a5-492d-97dd-d7b5e22abc83",
   "metadata": {},
   "outputs": [],
   "source": [
    "# Count the frequency of each source\n",
    "source_counts = df[sources_column].value_counts()\n"
   ]
  },
  {
   "cell_type": "code",
   "execution_count": 12,
   "id": "a5c5f390-ee4a-43b9-969e-1c340043ee62",
   "metadata": {},
   "outputs": [
    {
     "name": "stdout",
     "output_type": "stream",
     "text": [
      "\n",
      "Most Common Information Sources:\n",
      "Source\n",
      "Financial Consultants       16\n",
      "Newspapers and Magazines    14\n",
      "Television                   6\n",
      "Internet                     4\n",
      "Name: count, dtype: int64\n"
     ]
    }
   ],
   "source": [
    "# Display the most common sources\n",
    "print(\"\\nMost Common Information Sources:\")\n",
    "print(source_counts)"
   ]
  },
  {
   "cell_type": "code",
   "execution_count": 21,
   "id": "d1b1c919-e847-49c0-af3a-6970fa58a5d5",
   "metadata": {},
   "outputs": [
    {
     "data": {
      "image/png": "[encoded data removed]",
      "text/plain": [
       "<Figure size 800x500 with 1 Axes>"
      ]
     },
     "metadata": {},
     "output_type": "display_data"
    }
   ],
   "source": [
    "# Visualize the distribution of sources\n",
    "plt.figure(figsize=(8, 5))\n",
    "ax = source_counts.plot(kind='bar', color='skyblue', edgecolor='black')\n",
    "\n",
    "ax.bar_label(ax.containers[0])\n",
    "plt.title(\"Common Information Sources\")\n",
    "plt.xlabel(\"Sources\")\n",
    "plt.ylabel(\"Frequency\")\n",
    "plt.xticks(rotation=45, ha='right')\n",
    "plt.tight_layout()\n",
    "plt.show()"
   ]
  },
  {
   "cell_type": "markdown",
   "id": "c27d01b0-950a-467d-aeb8-4462eb1cc351",
   "metadata": {},
   "source": [
    "### So now we identifies that the most common information source is **Financial Consultant**"
   ]
  },
  {
   "cell_type": "markdown",
   "id": "4786e24a-0b87-49e1-a70c-14a8718c0033",
   "metadata": {},
   "source": [
    "## **Step 2:** Identify Investment Duration "
   ]
  },
  {
   "cell_type": "code",
   "execution_count": 15,
   "id": "30207eaf-8ea6-4c45-bcd9-fcd458c69f23",
   "metadata": {},
   "outputs": [],
   "source": [
    "# Analyze the investment duration column\n",
    "duration_column = 'Duration'"
   ]
  },
  {
   "cell_type": "code",
   "execution_count": 18,
   "id": "4511feb6-a67c-44e9-bb0e-809b630c37c9",
   "metadata": {},
   "outputs": [],
   "source": [
    "# Group data by duration categories and calculate frequencies\n",
    "duration_counts = df[duration_column].value_counts()"
   ]
  },
  {
   "cell_type": "code",
   "execution_count": 19,
   "id": "6cc0cb38-bdbf-4774-aea4-3e8dded65ddc",
   "metadata": {},
   "outputs": [
    {
     "name": "stdout",
     "output_type": "stream",
     "text": [
      "\n",
      "Investment Duration Distribution:\n",
      "Duration\n",
      "3-5 years            19\n",
      "1-3 years            18\n",
      "Less than 1 year      2\n",
      "More than 5 years     1\n",
      "Name: count, dtype: int64\n"
     ]
    }
   ],
   "source": [
    "# Display distribution\n",
    "print(\"\\nInvestment Duration Distribution:\")\n",
    "print(duration_counts)"
   ]
  },
  {
   "cell_type": "code",
   "execution_count": 20,
   "id": "21a9b795-37ca-4237-8557-f7b992d0a824",
   "metadata": {},
   "outputs": [
    {
     "data": {
      "image/png": "[encoded data removed]",
      "text/plain": [
       "<Figure size 800x500 with 1 Axes>"
      ]
     },
     "metadata": {},
     "output_type": "display_data"
    }
   ],
   "source": [
    "plt.figure(figsize=(8, 5))\n",
    "ax = duration_counts.plot(kind='bar', color='lightgreen', edgecolor='black')\n",
    "\n",
    "ax.bar_label(ax.containers[0])\n",
    "plt.title(\"Investment Duration Distribution\")\n",
    "plt.xlabel(\"Duration\")\n",
    "plt.ylabel(\"Frequency\")\n",
    "plt.xticks(rotation=45, ha='right')\n",
    "plt.tight_layout()\n",
    "plt.show()"
   ]
  },
  {
   "cell_type": "markdown",
   "id": "330f6010-887e-4e7c-bfae-63d8f7371fc0",
   "metadata": {},
   "source": [
    "### So the most preffable duration is **3-5 Years**"
   ]
  },
  {
   "cell_type": "markdown",
   "id": "a1cc2139-0208-478b-b401-9669b6bd9893",
   "metadata": {},
   "source": [
    "## **Step 3:** Identify expectation from Investment "
   ]
  },
  {
   "cell_type": "code",
   "execution_count": 22,
   "id": "88406bce-4b07-4839-901c-18ce400effb7",
   "metadata": {},
   "outputs": [],
   "source": [
    "# Analyze the expectations column\n",
    "expectations_column = 'Expect'  # Replace with the actual column name\n"
   ]
  },
  {
   "cell_type": "code",
   "execution_count": 23,
   "id": "4869424d-4320-46c3-b665-9b91e60a4cd6",
   "metadata": {},
   "outputs": [],
   "source": [
    "# Count unique expectations\n",
    "expectation_counts = df[expectations_column].value_counts()"
   ]
  },
  {
   "cell_type": "code",
   "execution_count": 24,
   "id": "7ec0ce2e-e780-4c93-8dcd-d45e93bcea7a",
   "metadata": {},
   "outputs": [
    {
     "name": "stdout",
     "output_type": "stream",
     "text": [
      "\n",
      "Investment Expectations:\n",
      "Expect\n",
      "20%-30%    32\n",
      "30%-40%     5\n",
      "10%-20%     3\n",
      "Name: count, dtype: int64\n"
     ]
    }
   ],
   "source": [
    "# Display most common expectations\n",
    "print(\"\\nInvestment Expectations:\")\n",
    "print(expectation_counts)"
   ]
  },
  {
   "cell_type": "code",
   "execution_count": 25,
   "id": "e688cf88-7665-4ae5-ac08-493638890690",
   "metadata": {},
   "outputs": [
    {
     "data": {
      "image/png": "[encoded data removed]",
      "text/plain": [
       "<Figure size 800x500 with 1 Axes>"
      ]
     },
     "metadata": {},
     "output_type": "display_data"
    }
   ],
   "source": [
    "#Visualize the expectations\n",
    "plt.figure(figsize=(8, 5))\n",
    "ax = expectation_counts.plot(kind='bar', color='orange', edgecolor='black')\n",
    "\n",
    "ax.bar_label(ax.containers[0])\n",
    "plt.title(\"Investment Expectations\")\n",
    "plt.xlabel(\"Expectations\")\n",
    "plt.ylabel(\"Frequency\")\n",
    "plt.xticks(rotation=45, ha='right')\n",
    "plt.tight_layout()\n",
    "plt.show()"
   ]
  },
  {
   "cell_type": "markdown",
   "id": "ded942a6-ff13-4b10-aeaa-7a0b310978d9",
   "metadata": {},
   "source": [
    "### So the most common investment Expectation is **20%-30%**"
   ]
  },
  {
   "cell_type": "markdown",
   "id": "e0c0a9b6-ae6e-4662-ad7e-3d46f5774c0e",
   "metadata": {},
   "source": [
    "# **Project Report: Investment and Saving Analysis – Level 4**\n",
    "\n",
    "## **Objective**\n",
    "To perform advanced analysis of the dataset by identifying:\n",
    "- **Common information sources.**\n",
    "- **Preferred investment durations.**\n",
    "- **Participants' expectations from investments.**\n",
    "\n",
    "---\n",
    "\n",
    "## **Steps Performed**\n",
    "\n",
    "### **1. Identifying Common Information Sources**\n",
    "- **Column Analyzed:** `Source`.\n",
    "- **Findings:**\n",
    "  - **Financial Consultants:** 16 occurrences (**most preferred**).\n",
    "  - **Newspapers and Magazines:** 14 occurrences.\n",
    "  - **Television:** 6 occurrences.\n",
    "  - **Internet:** 4 occurrences.\n",
    "- **Visualization:**\n",
    "  - A bar chart was created to display the frequency of each information source, with **Financial Consultants** emerging as the top choice.\n",
    "\n",
    "---\n",
    "\n",
    "### **2. Analyzing Investment Duration**\n",
    "- **Column Analyzed:** `Duration`.\n",
    "- **Findings:**\n",
    "  - **3-5 Years:** 19 occurrences (**most preferred**).\n",
    "  - **1-3 Years:** 18 occurrences.\n",
    "  - **Less than 1 Year:** 2 occurrences.\n",
    "  - **More than 5 Years:** 1 occurrence.\n",
    "- **Visualization:**\n",
    "  - A bar chart was created, showing **3-5 Years** as the most preferred investment duration.\n",
    "\n",
    "---\n",
    "\n",
    "### **3. Identifying Investment Expectations**\n",
    "- **Column Analyzed:** `Expect`.\n",
    "- **Findings:**\n",
    "  - **20%-30% Returns:** 32 occurrences (**most preferred**).\n",
    "  - **30%-40% Returns:** 5 occurrences.\n",
    "  - **10%-20% Returns:** 3 occurrences.\n",
    "- **Visualization:**\n",
    "  - A bar chart was created to represent participants' return expectations, with **20%-30% Returns** being the most anticipated.\n",
    "\n",
    "---\n",
    "\n",
    "## **Key Insights**\n",
    "- **Financial Consultants** are the most trusted source for investment information, highlighting the importance of professional advice.\n",
    "- **3-5 Years** is the preferred investment duration, indicating a medium-term financial planning trend.\n",
    "- Most participants expect **20%-30% returns** from their investments, reflecting moderate return expectations.\n",
    "\n",
    "---\n",
    "\n",
    "## **Conclusion**\n",
    "This analysis provides actionable insights into investment behaviors, helping financial institutions design products and services that align with customer preferences. Future analyses could delve deeper into demographic influences on these trends.\n"
   ]
  },
  {
   "cell_type": "code",
   "execution_count": null,
   "id": "08b37a5b-522f-4f8d-8156-2c65466b62fa",
   "metadata": {},
   "outputs": [],
   "source": []
  }
 ],
 "metadata": {
  "kernelspec": {
   "display_name": "Python 3 (ipykernel)",
   "language": "python",
   "name": "python3"
  },
  "language_info": {
   "codemirror_mode": {
    "name": "ipython",
    "version": 3
   },
   "file_extension": ".py",
   "mimetype": "text/x-python",
   "name": "python",
   "nbconvert_exporter": "python",
   "pygments_lexer": "ipython3",
   "version": "3.12.6"
  }
 },
 "nbformat": 4,
 "nbformat_minor": 5
}
