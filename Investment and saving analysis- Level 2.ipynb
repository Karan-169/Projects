{
 "cells": [
  {
   "cell_type": "markdown",
   "id": "fd0cb4a6-3f44-4b61-97c8-6790b1784c10",
   "metadata": {},
   "source": [
    "# **Investment and saving analysis**\n",
    "## **Level - 2**"
   ]
  },
  {
   "cell_type": "markdown",
   "id": "c7a786aa-a4bb-4a7a-b764-dba57a14fa85",
   "metadata": {},
   "source": [
    "### **Step- 1 Importing Required Liabraries**"
   ]
  },
  {
   "cell_type": "code",
   "execution_count": 14,
   "id": "abc8c2e2-3fa8-4336-baf9-a8835c4c5794",
   "metadata": {},
   "outputs": [],
   "source": [
    "import pandas as pd \n",
    "import numpy as np \n",
    "import matplotlib.pyplot as plt\n",
    "import seaborn as sns"
   ]
  },
  {
   "cell_type": "markdown",
   "id": "393bf323-b83b-4af1-b0b0-93b9ebb92bb1",
   "metadata": {},
   "source": [
    "### **Step- 2 Load the Dataset**"
   ]
  },
  {
   "cell_type": "code",
   "execution_count": 3,
   "id": "02cafd3c-f135-42dc-8cc2-3e7cd13a53de",
   "metadata": {},
   "outputs": [
    {
     "data": {
      "text/html": [
       "<div>\n",
       "<style scoped>\n",
       "    .dataframe tbody tr th:only-of-type {\n",
       "        vertical-align: middle;\n",
       "    }\n",
       "\n",
       "    .dataframe tbody tr th {\n",
       "        vertical-align: top;\n",
       "    }\n",
       "\n",
       "    .dataframe thead th {\n",
       "        text-align: right;\n",
       "    }\n",
       "</style>\n",
       "<table border=\"1\" class=\"dataframe\">\n",
       "  <thead>\n",
       "    <tr style=\"text-align: right;\">\n",
       "      <th></th>\n",
       "      <th>gender</th>\n",
       "      <th>age</th>\n",
       "      <th>Investment_Avenues</th>\n",
       "      <th>Mutual_Funds</th>\n",
       "      <th>Equity_Market</th>\n",
       "      <th>Debentures</th>\n",
       "      <th>Government_Bonds</th>\n",
       "      <th>Fixed_Deposits</th>\n",
       "      <th>PPF</th>\n",
       "      <th>Gold</th>\n",
       "      <th>...</th>\n",
       "      <th>Duration</th>\n",
       "      <th>Invest_Monitor</th>\n",
       "      <th>Expect</th>\n",
       "      <th>Avenue</th>\n",
       "      <th>What are your savings objectives?</th>\n",
       "      <th>Reason_Equity</th>\n",
       "      <th>Reason_Mutual</th>\n",
       "      <th>Reason_Bonds</th>\n",
       "      <th>Reason_FD</th>\n",
       "      <th>Source</th>\n",
       "    </tr>\n",
       "  </thead>\n",
       "  <tbody>\n",
       "    <tr>\n",
       "      <th>0</th>\n",
       "      <td>Female</td>\n",
       "      <td>34</td>\n",
       "      <td>Yes</td>\n",
       "      <td>1</td>\n",
       "      <td>2</td>\n",
       "      <td>5</td>\n",
       "      <td>3</td>\n",
       "      <td>7</td>\n",
       "      <td>6</td>\n",
       "      <td>4</td>\n",
       "      <td>...</td>\n",
       "      <td>1-3 years</td>\n",
       "      <td>Monthly</td>\n",
       "      <td>20%-30%</td>\n",
       "      <td>Mutual Fund</td>\n",
       "      <td>Retirement Plan</td>\n",
       "      <td>Capital Appreciation</td>\n",
       "      <td>Better Returns</td>\n",
       "      <td>Safe Investment</td>\n",
       "      <td>Fixed Returns</td>\n",
       "      <td>Newspapers and Magazines</td>\n",
       "    </tr>\n",
       "    <tr>\n",
       "      <th>1</th>\n",
       "      <td>Female</td>\n",
       "      <td>23</td>\n",
       "      <td>Yes</td>\n",
       "      <td>4</td>\n",
       "      <td>3</td>\n",
       "      <td>2</td>\n",
       "      <td>1</td>\n",
       "      <td>5</td>\n",
       "      <td>6</td>\n",
       "      <td>7</td>\n",
       "      <td>...</td>\n",
       "      <td>More than 5 years</td>\n",
       "      <td>Weekly</td>\n",
       "      <td>20%-30%</td>\n",
       "      <td>Mutual Fund</td>\n",
       "      <td>Health Care</td>\n",
       "      <td>Dividend</td>\n",
       "      <td>Better Returns</td>\n",
       "      <td>Safe Investment</td>\n",
       "      <td>High Interest Rates</td>\n",
       "      <td>Financial Consultants</td>\n",
       "    </tr>\n",
       "    <tr>\n",
       "      <th>2</th>\n",
       "      <td>Male</td>\n",
       "      <td>30</td>\n",
       "      <td>Yes</td>\n",
       "      <td>3</td>\n",
       "      <td>6</td>\n",
       "      <td>4</td>\n",
       "      <td>2</td>\n",
       "      <td>5</td>\n",
       "      <td>1</td>\n",
       "      <td>7</td>\n",
       "      <td>...</td>\n",
       "      <td>3-5 years</td>\n",
       "      <td>Daily</td>\n",
       "      <td>20%-30%</td>\n",
       "      <td>Equity</td>\n",
       "      <td>Retirement Plan</td>\n",
       "      <td>Capital Appreciation</td>\n",
       "      <td>Tax Benefits</td>\n",
       "      <td>Assured Returns</td>\n",
       "      <td>Fixed Returns</td>\n",
       "      <td>Television</td>\n",
       "    </tr>\n",
       "    <tr>\n",
       "      <th>3</th>\n",
       "      <td>Male</td>\n",
       "      <td>22</td>\n",
       "      <td>Yes</td>\n",
       "      <td>2</td>\n",
       "      <td>1</td>\n",
       "      <td>3</td>\n",
       "      <td>7</td>\n",
       "      <td>6</td>\n",
       "      <td>4</td>\n",
       "      <td>5</td>\n",
       "      <td>...</td>\n",
       "      <td>Less than 1 year</td>\n",
       "      <td>Daily</td>\n",
       "      <td>10%-20%</td>\n",
       "      <td>Equity</td>\n",
       "      <td>Retirement Plan</td>\n",
       "      <td>Dividend</td>\n",
       "      <td>Fund Diversification</td>\n",
       "      <td>Tax Incentives</td>\n",
       "      <td>High Interest Rates</td>\n",
       "      <td>Internet</td>\n",
       "    </tr>\n",
       "    <tr>\n",
       "      <th>4</th>\n",
       "      <td>Female</td>\n",
       "      <td>24</td>\n",
       "      <td>No</td>\n",
       "      <td>2</td>\n",
       "      <td>1</td>\n",
       "      <td>3</td>\n",
       "      <td>6</td>\n",
       "      <td>4</td>\n",
       "      <td>5</td>\n",
       "      <td>7</td>\n",
       "      <td>...</td>\n",
       "      <td>Less than 1 year</td>\n",
       "      <td>Daily</td>\n",
       "      <td>20%-30%</td>\n",
       "      <td>Equity</td>\n",
       "      <td>Retirement Plan</td>\n",
       "      <td>Capital Appreciation</td>\n",
       "      <td>Better Returns</td>\n",
       "      <td>Safe Investment</td>\n",
       "      <td>Risk Free</td>\n",
       "      <td>Internet</td>\n",
       "    </tr>\n",
       "  </tbody>\n",
       "</table>\n",
       "<p>5 rows × 24 columns</p>\n",
       "</div>"
      ],
      "text/plain": [
       "   gender  age Investment_Avenues  Mutual_Funds  Equity_Market  Debentures  \\\n",
       "0  Female   34                Yes             1              2           5   \n",
       "1  Female   23                Yes             4              3           2   \n",
       "2    Male   30                Yes             3              6           4   \n",
       "3    Male   22                Yes             2              1           3   \n",
       "4  Female   24                 No             2              1           3   \n",
       "\n",
       "   Government_Bonds  Fixed_Deposits  PPF  Gold  ...           Duration  \\\n",
       "0                 3               7    6     4  ...          1-3 years   \n",
       "1                 1               5    6     7  ...  More than 5 years   \n",
       "2                 2               5    1     7  ...          3-5 years   \n",
       "3                 7               6    4     5  ...   Less than 1 year   \n",
       "4                 6               4    5     7  ...   Less than 1 year   \n",
       "\n",
       "  Invest_Monitor   Expect       Avenue What are your savings objectives?  \\\n",
       "0        Monthly  20%-30%  Mutual Fund                   Retirement Plan   \n",
       "1         Weekly  20%-30%  Mutual Fund                       Health Care   \n",
       "2          Daily  20%-30%       Equity                   Retirement Plan   \n",
       "3          Daily  10%-20%       Equity                   Retirement Plan   \n",
       "4          Daily  20%-30%       Equity                   Retirement Plan   \n",
       "\n",
       "          Reason_Equity         Reason_Mutual     Reason_Bonds  \\\n",
       "0  Capital Appreciation        Better Returns  Safe Investment   \n",
       "1              Dividend        Better Returns  Safe Investment   \n",
       "2  Capital Appreciation          Tax Benefits  Assured Returns   \n",
       "3              Dividend  Fund Diversification   Tax Incentives   \n",
       "4  Capital Appreciation        Better Returns  Safe Investment   \n",
       "\n",
       "             Reason_FD                    Source  \n",
       "0        Fixed Returns  Newspapers and Magazines  \n",
       "1  High Interest Rates     Financial Consultants  \n",
       "2        Fixed Returns                Television  \n",
       "3  High Interest Rates                  Internet  \n",
       "4            Risk Free                  Internet  \n",
       "\n",
       "[5 rows x 24 columns]"
      ]
     },
     "execution_count": 3,
     "metadata": {},
     "output_type": "execute_result"
    }
   ],
   "source": [
    "df = pd.read_csv('Investment and saving data.csv')\n",
    "df.head()"
   ]
  },
  {
   "cell_type": "markdown",
   "id": "5a45bfd1-a03c-40e6-adb9-c512608600d6",
   "metadata": {},
   "source": [
    "### **Step-3 Identifying numerical Columns**"
   ]
  },
  {
   "cell_type": "code",
   "execution_count": 6,
   "id": "34eeb52b-7bf5-4bef-87c9-f042958a526d",
   "metadata": {},
   "outputs": [
    {
     "name": "stdout",
     "output_type": "stream",
     "text": [
      "Numerical Columns: Index(['age', 'Mutual_Funds', 'Equity_Market', 'Debentures',\n",
      "       'Government_Bonds', 'Fixed_Deposits', 'PPF', 'Gold'],\n",
      "      dtype='object')\n"
     ]
    }
   ],
   "source": [
    "numerical_columns = df.select_dtypes(include=['float64', 'int64']).columns\n",
    "print(\"Numerical Columns:\", numerical_columns)"
   ]
  },
  {
   "cell_type": "markdown",
   "id": "e2d69942-0e58-4923-8061-920ac8177d50",
   "metadata": {},
   "source": [
    "### **Step-4 Calculate mean, median, and standard deviation for numerical columns**"
   ]
  },
  {
   "cell_type": "code",
   "execution_count": 7,
   "id": "4ad3a645-f77f-477b-86f2-d710f07ebceb",
   "metadata": {},
   "outputs": [
    {
     "name": "stdout",
     "output_type": "stream",
     "text": [
      "\n",
      "Column: age\n",
      "Mean: 27.8\n",
      "Median: 27.0\n",
      "Standard Deviation: 3.560466693696639\n",
      "\n",
      "Column: Mutual_Funds\n",
      "Mean: 2.55\n",
      "Median: 2.0\n",
      "Standard Deviation: 1.1972189997378648\n",
      "\n",
      "Column: Equity_Market\n",
      "Mean: 3.475\n",
      "Median: 4.0\n",
      "Standard Deviation: 1.1319939294935535\n",
      "\n",
      "Column: Debentures\n",
      "Mean: 5.75\n",
      "Median: 6.5\n",
      "Standard Deviation: 1.6756169931378433\n",
      "\n",
      "Column: Government_Bonds\n",
      "Mean: 4.65\n",
      "Median: 5.0\n",
      "Standard Deviation: 1.369072304284538\n",
      "\n",
      "Column: Fixed_Deposits\n",
      "Mean: 3.575\n",
      "Median: 3.5\n",
      "Standard Deviation: 1.795828499606797\n",
      "\n",
      "Column: PPF\n",
      "Mean: 2.025\n",
      "Median: 1.0\n",
      "Standard Deviation: 1.6090688500193409\n",
      "\n",
      "Column: Gold\n",
      "Mean: 5.975\n",
      "Median: 6.0\n",
      "Standard Deviation: 1.1432634351063984\n"
     ]
    }
   ],
   "source": [
    "for column in numerical_columns:\n",
    "    mean = df[column].mean()\n",
    "    median = df[column].median()\n",
    "    std_dev = df[column].std()\n",
    "    print(f\"\\nColumn: {column}\")\n",
    "    print(f\"Mean: {mean}\")\n",
    "    print(f\"Median: {median}\")\n",
    "    print(f\"Standard Deviation: {std_dev}\")"
   ]
  },
  {
   "cell_type": "markdown",
   "id": "c09ee208-0306-491e-84a0-b9c909472347",
   "metadata": {},
   "source": [
    "### **Step-5 Identifying the most preffered investment avenues**"
   ]
  },
  {
   "cell_type": "code",
   "execution_count": 19,
   "id": "ae6dff10-38d7-4940-a4bd-9ac5e006349c",
   "metadata": {},
   "outputs": [
    {
     "name": "stdout",
     "output_type": "stream",
     "text": [
      "\n",
      "Most Preferred Investment Avenue:\n",
      "Gold with a total count of 239\n"
     ]
    },
    {
     "data": {
      "text/plain": [
       "Text(0, 0.5, 'Total Count')"
      ]
     },
     "execution_count": 19,
     "metadata": {},
     "output_type": "execute_result"
    },
    {
     "data": {
      "image/png": "[encoded data removed]",
      "text/plain": [
       "<Figure size 640x480 with 1 Axes>"
      ]
     },
     "metadata": {},
     "output_type": "display_data"
    }
   ],
   "source": [
    "# List of investment avenue columns excluding \"Stock Market\"\n",
    "investment_columns = [\n",
    "    \"Mutual_Funds\",\n",
    "    \"Equity_Market\",\n",
    "    \"Debentures\",\n",
    "    \"Government_Bonds\",\n",
    "    \"Fixed_Deposits\",\n",
    "    \"PPF\",\n",
    "    \"Gold\"\n",
    "]\n",
    "\n",
    "# Display the most preferred investment avenue\n",
    "most_preferred = avenue_counts.idxmax()\n",
    "print(\"\\nMost Preferred Investment Avenue:\")\n",
    "print(f\"{most_preferred} with a total count of {avenue_counts[most_preferred]}\")\n",
    "\n",
    "# Plot the investment avenues\n",
    "ax = avenue_counts.plot(kind='bar', title=\"Most Preferred Investment Avenues\")\n",
    "\n",
    "ax.bar_label(ax.containers[0])\n",
    "plt.xlabel(\"Investment Avenue\")\n",
    "plt.ylabel(\"Total Count\")\n",
    "\n",
    "\n",
    "\n"
   ]
  },
  {
   "cell_type": "markdown",
   "id": "b769beb9-8689-4e60-9c28-496d615e5d0a",
   "metadata": {},
   "source": [
    "## **Project Report: Investment and Saving Analysis – Level 2**\n",
    "### **Objective:**\n",
    "#### To analyze investment and saving trends based on a dataset, identify the most preferred investment avenues, and provide meaningful insights through statistical measures and visualizations.\n",
    "\n",
    "### Steps Performed:\n",
    "#### **Step 1:Importing Libraries:**\n",
    "##### (i)Utilized Python libraries such as pandas, numpy, matplotlib, and seaborn for data manipulation and visualization.\n",
    "#### **Step 2:Loading the Dataset:**\n",
    "##### (i) The dataset was loaded successfully into a pandas DataFrame.\n",
    "##### (ii) Key characteristics such as column names, data types, and a snapshot of the data were reviewed.\n",
    "#### **Step 3:Identifying Numerical Columns:**\n",
    "##### (i)Extracted numerical columns from the dataset for statistical calculations.\n",
    "#### **Step 4:Statistical Summary:**\n",
    "\n",
    "##### (i)Calculated mean, median, and standard deviation for all numerical columns to understand data distribution:\n",
    "##### **Mean:** Average value of the column.\n",
    "##### **Median:** Middle value when sorted.\n",
    "##### **Standard Deviation:** Measure of variability.\n",
    "#### **Step 5:Most Preferred Investment Avenues:**\n",
    "##### (i)Focused on specific investment avenues \n",
    "##### Mutual Funds, Equity Market, Debentures, Government Bonds, Fixed Deposits, PPF, and Gold.\n",
    "##### **(ii)Finding:** The most preferred investment avenue is Gold, with a total count of 239.\n",
    "##### **(iii)Visualization:** A bar chart was created to display the distribution of investment preferences with data labels for clarity.\n",
    "### **Conclusion**\n",
    "##### (i)Gold is the most preferred investment avenue with a total count of 239, indicating strong participant confidence in its stability and long-term value.\n",
    "##### (ii)Statistical analysis revealed a diverse range of averages and variabilities across numerical data, highlighting differences in financial behaviors.\n",
    "##### (iii)Bar chart visualizations provided clear insights into the distribution of investment preferences, enabling easier interpretation of trends."
   ]
  },
  {
   "cell_type": "code",
   "execution_count": null,
   "id": "d5a5b6a8-b23b-4d51-82c8-0e63af4fa020",
   "metadata": {},
   "outputs": [],
   "source": []
  }
 ],
 "metadata": {
  "kernelspec": {
   "display_name": "Python 3 (ipykernel)",
   "language": "python",
   "name": "python3"
  },
  "language_info": {
   "codemirror_mode": {
    "name": "ipython",
    "version": 3
   },
   "file_extension": ".py",
   "mimetype": "text/x-python",
   "name": "python",
   "nbconvert_exporter": "python",
   "pygments_lexer": "ipython3",
   "version": "3.12.6"
  }
 },
 "nbformat": 4,
 "nbformat_minor": 5
}
