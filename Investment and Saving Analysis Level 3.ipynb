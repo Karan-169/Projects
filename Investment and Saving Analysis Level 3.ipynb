{
 "cells": [
  {
   "cell_type": "markdown",
   "id": "a1cacec5-80c9-41a6-a107-9c4212ebc79f",
   "metadata": {},
   "source": [
    "# **Investment and Saving Analysis** \n",
    "## **Level 3**"
   ]
  },
  {
   "cell_type": "markdown",
   "id": "2be0a3fe-35be-4b53-ae28-51b67955435a",
   "metadata": {},
   "source": [
    "### **Step 1: Importing Required Liabraries**"
   ]
  },
  {
   "cell_type": "code",
   "execution_count": 1,
   "id": "71355ac0-c1a8-4a48-be1a-8b621b3818f5",
   "metadata": {},
   "outputs": [],
   "source": [
    "import pandas as pd \n",
    "import numpy as np \n",
    "import matplotlib.pyplot as plt\n",
    "import seaborn as sns"
   ]
  },
  {
   "cell_type": "markdown",
   "id": "e327398b-1b2d-4e70-92b9-21dd94e37c23",
   "metadata": {},
   "source": [
    "### **Step 2: Load the Dataset**"
   ]
  },
  {
   "cell_type": "code",
   "execution_count": 2,
   "id": "b1c32d50-ac1b-4afd-98dc-fec88dfec4cf",
   "metadata": {},
   "outputs": [
    {
     "data": {
      "text/html": [
       "<div>\n",
       "<style scoped>\n",
       "    .dataframe tbody tr th:only-of-type {\n",
       "        vertical-align: middle;\n",
       "    }\n",
       "\n",
       "    .dataframe tbody tr th {\n",
       "        vertical-align: top;\n",
       "    }\n",
       "\n",
       "    .dataframe thead th {\n",
       "        text-align: right;\n",
       "    }\n",
       "</style>\n",
       "<table border=\"1\" class=\"dataframe\">\n",
       "  <thead>\n",
       "    <tr style=\"text-align: right;\">\n",
       "      <th></th>\n",
       "      <th>gender</th>\n",
       "      <th>age</th>\n",
       "      <th>Investment_Avenues</th>\n",
       "      <th>Mutual_Funds</th>\n",
       "      <th>Equity_Market</th>\n",
       "      <th>Debentures</th>\n",
       "      <th>Government_Bonds</th>\n",
       "      <th>Fixed_Deposits</th>\n",
       "      <th>PPF</th>\n",
       "      <th>Gold</th>\n",
       "      <th>...</th>\n",
       "      <th>Duration</th>\n",
       "      <th>Invest_Monitor</th>\n",
       "      <th>Expect</th>\n",
       "      <th>Avenue</th>\n",
       "      <th>What are your savings objectives?</th>\n",
       "      <th>Reason_Equity</th>\n",
       "      <th>Reason_Mutual</th>\n",
       "      <th>Reason_Bonds</th>\n",
       "      <th>Reason_FD</th>\n",
       "      <th>Source</th>\n",
       "    </tr>\n",
       "  </thead>\n",
       "  <tbody>\n",
       "    <tr>\n",
       "      <th>0</th>\n",
       "      <td>Female</td>\n",
       "      <td>34</td>\n",
       "      <td>Yes</td>\n",
       "      <td>1</td>\n",
       "      <td>2</td>\n",
       "      <td>5</td>\n",
       "      <td>3</td>\n",
       "      <td>7</td>\n",
       "      <td>6</td>\n",
       "      <td>4</td>\n",
       "      <td>...</td>\n",
       "      <td>1-3 years</td>\n",
       "      <td>Monthly</td>\n",
       "      <td>20%-30%</td>\n",
       "      <td>Mutual Fund</td>\n",
       "      <td>Retirement Plan</td>\n",
       "      <td>Capital Appreciation</td>\n",
       "      <td>Better Returns</td>\n",
       "      <td>Safe Investment</td>\n",
       "      <td>Fixed Returns</td>\n",
       "      <td>Newspapers and Magazines</td>\n",
       "    </tr>\n",
       "    <tr>\n",
       "      <th>1</th>\n",
       "      <td>Female</td>\n",
       "      <td>23</td>\n",
       "      <td>Yes</td>\n",
       "      <td>4</td>\n",
       "      <td>3</td>\n",
       "      <td>2</td>\n",
       "      <td>1</td>\n",
       "      <td>5</td>\n",
       "      <td>6</td>\n",
       "      <td>7</td>\n",
       "      <td>...</td>\n",
       "      <td>More than 5 years</td>\n",
       "      <td>Weekly</td>\n",
       "      <td>20%-30%</td>\n",
       "      <td>Mutual Fund</td>\n",
       "      <td>Health Care</td>\n",
       "      <td>Dividend</td>\n",
       "      <td>Better Returns</td>\n",
       "      <td>Safe Investment</td>\n",
       "      <td>High Interest Rates</td>\n",
       "      <td>Financial Consultants</td>\n",
       "    </tr>\n",
       "    <tr>\n",
       "      <th>2</th>\n",
       "      <td>Male</td>\n",
       "      <td>30</td>\n",
       "      <td>Yes</td>\n",
       "      <td>3</td>\n",
       "      <td>6</td>\n",
       "      <td>4</td>\n",
       "      <td>2</td>\n",
       "      <td>5</td>\n",
       "      <td>1</td>\n",
       "      <td>7</td>\n",
       "      <td>...</td>\n",
       "      <td>3-5 years</td>\n",
       "      <td>Daily</td>\n",
       "      <td>20%-30%</td>\n",
       "      <td>Equity</td>\n",
       "      <td>Retirement Plan</td>\n",
       "      <td>Capital Appreciation</td>\n",
       "      <td>Tax Benefits</td>\n",
       "      <td>Assured Returns</td>\n",
       "      <td>Fixed Returns</td>\n",
       "      <td>Television</td>\n",
       "    </tr>\n",
       "    <tr>\n",
       "      <th>3</th>\n",
       "      <td>Male</td>\n",
       "      <td>22</td>\n",
       "      <td>Yes</td>\n",
       "      <td>2</td>\n",
       "      <td>1</td>\n",
       "      <td>3</td>\n",
       "      <td>7</td>\n",
       "      <td>6</td>\n",
       "      <td>4</td>\n",
       "      <td>5</td>\n",
       "      <td>...</td>\n",
       "      <td>Less than 1 year</td>\n",
       "      <td>Daily</td>\n",
       "      <td>10%-20%</td>\n",
       "      <td>Equity</td>\n",
       "      <td>Retirement Plan</td>\n",
       "      <td>Dividend</td>\n",
       "      <td>Fund Diversification</td>\n",
       "      <td>Tax Incentives</td>\n",
       "      <td>High Interest Rates</td>\n",
       "      <td>Internet</td>\n",
       "    </tr>\n",
       "    <tr>\n",
       "      <th>4</th>\n",
       "      <td>Female</td>\n",
       "      <td>24</td>\n",
       "      <td>No</td>\n",
       "      <td>2</td>\n",
       "      <td>1</td>\n",
       "      <td>3</td>\n",
       "      <td>6</td>\n",
       "      <td>4</td>\n",
       "      <td>5</td>\n",
       "      <td>7</td>\n",
       "      <td>...</td>\n",
       "      <td>Less than 1 year</td>\n",
       "      <td>Daily</td>\n",
       "      <td>20%-30%</td>\n",
       "      <td>Equity</td>\n",
       "      <td>Retirement Plan</td>\n",
       "      <td>Capital Appreciation</td>\n",
       "      <td>Better Returns</td>\n",
       "      <td>Safe Investment</td>\n",
       "      <td>Risk Free</td>\n",
       "      <td>Internet</td>\n",
       "    </tr>\n",
       "  </tbody>\n",
       "</table>\n",
       "<p>5 rows × 24 columns</p>\n",
       "</div>"
      ],
      "text/plain": [
       "   gender  age Investment_Avenues  Mutual_Funds  Equity_Market  Debentures  \\\n",
       "0  Female   34                Yes             1              2           5   \n",
       "1  Female   23                Yes             4              3           2   \n",
       "2    Male   30                Yes             3              6           4   \n",
       "3    Male   22                Yes             2              1           3   \n",
       "4  Female   24                 No             2              1           3   \n",
       "\n",
       "   Government_Bonds  Fixed_Deposits  PPF  Gold  ...           Duration  \\\n",
       "0                 3               7    6     4  ...          1-3 years   \n",
       "1                 1               5    6     7  ...  More than 5 years   \n",
       "2                 2               5    1     7  ...          3-5 years   \n",
       "3                 7               6    4     5  ...   Less than 1 year   \n",
       "4                 6               4    5     7  ...   Less than 1 year   \n",
       "\n",
       "  Invest_Monitor   Expect       Avenue What are your savings objectives?  \\\n",
       "0        Monthly  20%-30%  Mutual Fund                   Retirement Plan   \n",
       "1         Weekly  20%-30%  Mutual Fund                       Health Care   \n",
       "2          Daily  20%-30%       Equity                   Retirement Plan   \n",
       "3          Daily  10%-20%       Equity                   Retirement Plan   \n",
       "4          Daily  20%-30%       Equity                   Retirement Plan   \n",
       "\n",
       "          Reason_Equity         Reason_Mutual     Reason_Bonds  \\\n",
       "0  Capital Appreciation        Better Returns  Safe Investment   \n",
       "1              Dividend        Better Returns  Safe Investment   \n",
       "2  Capital Appreciation          Tax Benefits  Assured Returns   \n",
       "3              Dividend  Fund Diversification   Tax Incentives   \n",
       "4  Capital Appreciation        Better Returns  Safe Investment   \n",
       "\n",
       "             Reason_FD                    Source  \n",
       "0        Fixed Returns  Newspapers and Magazines  \n",
       "1  High Interest Rates     Financial Consultants  \n",
       "2        Fixed Returns                Television  \n",
       "3  High Interest Rates                  Internet  \n",
       "4            Risk Free                  Internet  \n",
       "\n",
       "[5 rows x 24 columns]"
      ]
     },
     "execution_count": 2,
     "metadata": {},
     "output_type": "execute_result"
    }
   ],
   "source": [
    "df = pd.read_csv('Investment and saving data.csv')\n",
    "df.head()"
   ]
  },
  {
   "cell_type": "markdown",
   "id": "d501e9fc-06bd-47b0-946e-c10907fa082a",
   "metadata": {},
   "source": [
    "### **Step 3: Making a List of reason columns**"
   ]
  },
  {
   "cell_type": "code",
   "execution_count": 3,
   "id": "55423502-3efc-47a7-b0c5-3fbe5624aa7c",
   "metadata": {},
   "outputs": [],
   "source": [
    "reason_columns = ['Reason_Equity', 'Reason_Mutual', 'Reason_Bonds', 'Reason_FD']"
   ]
  },
  {
   "cell_type": "markdown",
   "id": "3293f98e-adf2-41a8-be88-60d5eb2e00e5",
   "metadata": {},
   "source": [
    "### **Step 4: Combine reasons from all columns into a single series**"
   ]
  },
  {
   "cell_type": "code",
   "execution_count": 4,
   "id": "c53a67a2-d280-4e20-a3a7-65b7030ae470",
   "metadata": {},
   "outputs": [],
   "source": [
    "all_reasons = pd.concat([df[col].dropna() for col in reason_columns])"
   ]
  },
  {
   "cell_type": "markdown",
   "id": "9d50eb06-3c19-4cc5-91cd-c7c1e5cbe2e3",
   "metadata": {},
   "source": [
    "### **Step 5: Count occurrences of each reason**"
   ]
  },
  {
   "cell_type": "code",
   "execution_count": 5,
   "id": "977f7fc6-8570-48ae-b9b3-d0a52fefadd1",
   "metadata": {},
   "outputs": [],
   "source": [
    "reason_counts = all_reasons.value_counts()"
   ]
  },
  {
   "cell_type": "markdown",
   "id": "fe1206b7-a1c6-4658-a43c-18e8256859fc",
   "metadata": {},
   "source": [
    "### **Step 6: Display most common reasons**"
   ]
  },
  {
   "cell_type": "code",
   "execution_count": 6,
   "id": "02d67bfa-e9c1-4049-8327-e61c9a3417f8",
   "metadata": {},
   "outputs": [
    {
     "name": "stdout",
     "output_type": "stream",
     "text": [
      "\n",
      "Most Common Reasons for Investment:\n",
      "Capital Appreciation    30\n",
      "Assured Returns         26\n",
      "Better Returns          24\n",
      "Risk Free               19\n",
      "Fixed Returns           18\n",
      "Fund Diversification    13\n",
      "Safe Investment         13\n",
      "Dividend                 8\n",
      "High Interest Rates      3\n",
      "Tax Benefits             3\n",
      "Liquidity                2\n",
      "Tax Incentives           1\n",
      "Name: count, dtype: int64\n"
     ]
    }
   ],
   "source": [
    "print(\"\\nMost Common Reasons for Investment:\")\n",
    "print(reason_counts)\n"
   ]
  },
  {
   "cell_type": "markdown",
   "id": "5c903630-710f-4a25-ab2e-e23f74182951",
   "metadata": {},
   "source": [
    "### **Step 7: Visualize the distribution of reasons**"
   ]
  },
  {
   "cell_type": "code",
   "execution_count": 9,
   "id": "bf87c486-030e-42ec-b37e-f7948e6ec838",
   "metadata": {},
   "outputs": [
    {
     "data": {
      "image/png": "[encoded data removed]",
      "text/plain": [
       "<Figure size 1000x600 with 1 Axes>"
      ]
     },
     "metadata": {},
     "output_type": "display_data"
    }
   ],
   "source": [
    "plt.figure(figsize=(10, 6))\n",
    "ax = reason_counts.plot(kind='bar', color='skyblue', edgecolor='black')\n",
    "\n",
    "ax.bar_label(ax.containers[0])\n",
    "plt.title(\"Reasons for Investment\")\n",
    "plt.xlabel(\"Reasons\")\n",
    "plt.ylabel(\"Frequency\")\n",
    "plt.xticks(rotation=45, ha='right')\n",
    "plt.tight_layout()\n",
    "plt.show()"
   ]
  },
  {
   "cell_type": "markdown",
   "id": "a595e086-904b-4e38-82e4-4b777522aec5",
   "metadata": {},
   "source": [
    "### we identified that the most common reason of investment is **Capital Appreciation** "
   ]
  },
  {
   "cell_type": "markdown",
   "id": "2f419052-3549-4376-b3de-e63fef7c06cb",
   "metadata": {},
   "source": [
    "## **Project Report: Investment and Saving Analysis – Level 3**\n",
    "### **Objective:**\n",
    "#### To analyze the reasons for investment based on the dataset and provide insights into the most common motivations for financial behavior.\n",
    "\n",
    "## **Steps Performed:**\n",
    "### **(i)Importing Libraries:**\n",
    "#### Essential Python libraries (pandas, numpy, matplotlib, and seaborn) were imported to perform data analysis and visualization.\n",
    "\n",
    "### **(ii)Loading the Dataset:**\n",
    "#### The dataset, titled \"Investment and Saving Data\", contains 24 columns including demographic information (e.g., gender, age) and investment-related data (e.g., Mutual Funds, Gold, Fixed Deposits, etc.).\n",
    "\n",
    "### **(iii)Identifying Reason Columns:**\n",
    "#### >Four columns representing reasons for investment were identified:\n",
    "#### **>Reason_Equity, Reason_Mutual, Reason_Bonds, Reason_FD.**\n",
    "\n",
    "### **(iv)Combining Reasons:**\n",
    "#### >Data from these columns was combined into a single series for holistic analysis.\n",
    "\n",
    "### **(v)Counting Occurrences:**\n",
    "#### The frequency of each reason for investment was calculated.\n",
    "\n",
    "### **(vi)Key Findings (Most Common Reasons for Investment):**\n",
    "#### **>Capital Appreciation:** 30 occurrences (most common reason).\n",
    "#### **>Assured Returns:** 26 occurrences.\n",
    "#### **>Better Returns:** 24 occurrences.\n",
    "#### **>Risk-Free Investment:** 19 occurrences.\n",
    "#### Other notable reasons: Fixed Returns (18), Fund Diversification (13), Safe Investment (13).\n",
    "\n",
    "### **(vii)Visualization:**\n",
    "#### >A bar chart was created to display the frequency of each investment reason:\n",
    "#### >The x-axis represented different reasons.\n",
    "#### >The y-axis showed their respective frequencies.\n",
    "\n",
    "## **Key Insights:**\n",
    "#### (i)The most common reason for investment is **Capital Appreciation**, reflecting a preference for growth and long-term financial gains.\n",
    "#### (ii)**Assured Returns** and **Better Returns** are also significant, indicating a focus on reliability and competitive returns.\n",
    "#### (iii)**Risk-Free Investment** ranks high, highlighting risk-averse behavior among participants.\n",
    "\n",
    "## **Conclusion:**\n",
    "#### (i)The analysis identifies clear motivations behind investment choices, with growth, safety, and assured returns being primary drivers.\n",
    "#### (ii)The findings offer valuable insights for tailoring investment products to align with customer priorities."
   ]
  },
  {
   "cell_type": "code",
   "execution_count": null,
   "id": "883aaeaa-6e84-43d9-bde6-5469ee0eb340",
   "metadata": {},
   "outputs": [],
   "source": []
  }
 ],
 "metadata": {
  "kernelspec": {
   "display_name": "Python 3 (ipykernel)",
   "language": "python",
   "name": "python3"
  },
  "language_info": {
   "codemirror_mode": {
    "name": "ipython",
    "version": 3
   },
   "file_extension": ".py",
   "mimetype": "text/x-python",
   "name": "python",
   "nbconvert_exporter": "python",
   "pygments_lexer": "ipython3",
   "version": "3.12.6"
  }
 },
 "nbformat": 4,
 "nbformat_minor": 5
}
